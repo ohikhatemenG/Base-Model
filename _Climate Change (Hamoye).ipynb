{
 "cells": [
  {
   "cell_type": "markdown",
   "metadata": {},
   "source": [
    "                             THE CLIMATE CHANGE DATASET\n",
    "The datasets was provided by the Food and Agriculture Organization of the United Nations "
   ]
  },
  {
   "cell_type": "code",
   "execution_count": 1,
   "metadata": {},
   "outputs": [],
   "source": [
    "import matplotlib.pyplot as plt\n",
    "import pandas as pd\n",
    "import numpy as np\n",
    "import seaborn as sns\n",
    "url = \"https://github.com/HamoyeHQ/HDSC-Introduction-to-Python-for-machine-learning/files/7768140/FoodBalanceSheets_E_Africa_NOFLAG.csv\"\n",
    "\n",
    "dat = pd.read_csv(url, encoding='latin-1')"
   ]
  },
  {
   "cell_type": "code",
   "execution_count": 2,
   "metadata": {},
   "outputs": [
    {
     "data": {
      "text/html": [
       "<div>\n",
       "<style scoped>\n",
       "    .dataframe tbody tr th:only-of-type {\n",
       "        vertical-align: middle;\n",
       "    }\n",
       "\n",
       "    .dataframe tbody tr th {\n",
       "        vertical-align: top;\n",
       "    }\n",
       "\n",
       "    .dataframe thead th {\n",
       "        text-align: right;\n",
       "    }\n",
       "</style>\n",
       "<table border=\"1\" class=\"dataframe\">\n",
       "  <thead>\n",
       "    <tr style=\"text-align: right;\">\n",
       "      <th></th>\n",
       "      <th>Area Code</th>\n",
       "      <th>Area</th>\n",
       "      <th>Item Code</th>\n",
       "      <th>Item</th>\n",
       "      <th>Element Code</th>\n",
       "      <th>Element</th>\n",
       "      <th>Unit</th>\n",
       "      <th>Y2014</th>\n",
       "      <th>Y2015</th>\n",
       "      <th>Y2016</th>\n",
       "      <th>Y2017</th>\n",
       "      <th>Y2018</th>\n",
       "    </tr>\n",
       "  </thead>\n",
       "  <tbody>\n",
       "    <tr>\n",
       "      <th>0</th>\n",
       "      <td>4</td>\n",
       "      <td>Algeria</td>\n",
       "      <td>2501</td>\n",
       "      <td>Population</td>\n",
       "      <td>511</td>\n",
       "      <td>Total Population - Both sexes</td>\n",
       "      <td>1000 persons</td>\n",
       "      <td>38924.00</td>\n",
       "      <td>39728.00</td>\n",
       "      <td>40551.00</td>\n",
       "      <td>41389.00</td>\n",
       "      <td>42228.00</td>\n",
       "    </tr>\n",
       "    <tr>\n",
       "      <th>1</th>\n",
       "      <td>4</td>\n",
       "      <td>Algeria</td>\n",
       "      <td>2501</td>\n",
       "      <td>Population</td>\n",
       "      <td>5301</td>\n",
       "      <td>Domestic supply quantity</td>\n",
       "      <td>1000 tonnes</td>\n",
       "      <td>0.00</td>\n",
       "      <td>0.00</td>\n",
       "      <td>0.00</td>\n",
       "      <td>0.00</td>\n",
       "      <td>0.00</td>\n",
       "    </tr>\n",
       "    <tr>\n",
       "      <th>2</th>\n",
       "      <td>4</td>\n",
       "      <td>Algeria</td>\n",
       "      <td>2901</td>\n",
       "      <td>Grand Total</td>\n",
       "      <td>664</td>\n",
       "      <td>Food supply (kcal/capita/day)</td>\n",
       "      <td>kcal/capita/day</td>\n",
       "      <td>3377.00</td>\n",
       "      <td>3379.00</td>\n",
       "      <td>3372.00</td>\n",
       "      <td>3341.00</td>\n",
       "      <td>3322.00</td>\n",
       "    </tr>\n",
       "    <tr>\n",
       "      <th>3</th>\n",
       "      <td>4</td>\n",
       "      <td>Algeria</td>\n",
       "      <td>2901</td>\n",
       "      <td>Grand Total</td>\n",
       "      <td>674</td>\n",
       "      <td>Protein supply quantity (g/capita/day)</td>\n",
       "      <td>g/capita/day</td>\n",
       "      <td>94.90</td>\n",
       "      <td>94.35</td>\n",
       "      <td>94.72</td>\n",
       "      <td>92.82</td>\n",
       "      <td>91.83</td>\n",
       "    </tr>\n",
       "    <tr>\n",
       "      <th>4</th>\n",
       "      <td>4</td>\n",
       "      <td>Algeria</td>\n",
       "      <td>2901</td>\n",
       "      <td>Grand Total</td>\n",
       "      <td>684</td>\n",
       "      <td>Fat supply quantity (g/capita/day)</td>\n",
       "      <td>g/capita/day</td>\n",
       "      <td>80.06</td>\n",
       "      <td>79.36</td>\n",
       "      <td>77.40</td>\n",
       "      <td>80.19</td>\n",
       "      <td>77.28</td>\n",
       "    </tr>\n",
       "  </tbody>\n",
       "</table>\n",
       "</div>"
      ],
      "text/plain": [
       "   Area Code     Area  Item Code         Item  Element Code  \\\n",
       "0          4  Algeria       2501   Population           511   \n",
       "1          4  Algeria       2501   Population          5301   \n",
       "2          4  Algeria       2901  Grand Total           664   \n",
       "3          4  Algeria       2901  Grand Total           674   \n",
       "4          4  Algeria       2901  Grand Total           684   \n",
       "\n",
       "                                  Element             Unit     Y2014  \\\n",
       "0           Total Population - Both sexes     1000 persons  38924.00   \n",
       "1                Domestic supply quantity      1000 tonnes      0.00   \n",
       "2           Food supply (kcal/capita/day)  kcal/capita/day   3377.00   \n",
       "3  Protein supply quantity (g/capita/day)     g/capita/day     94.90   \n",
       "4      Fat supply quantity (g/capita/day)     g/capita/day     80.06   \n",
       "\n",
       "      Y2015     Y2016     Y2017     Y2018  \n",
       "0  39728.00  40551.00  41389.00  42228.00  \n",
       "1      0.00      0.00      0.00      0.00  \n",
       "2   3379.00   3372.00   3341.00   3322.00  \n",
       "3     94.35     94.72     92.82     91.83  \n",
       "4     79.36     77.40     80.19     77.28  "
      ]
     },
     "execution_count": 2,
     "metadata": {},
     "output_type": "execute_result"
    }
   ],
   "source": [
    "dat.head()"
   ]
  },
  {
   "cell_type": "code",
   "execution_count": 3,
   "metadata": {},
   "outputs": [
    {
     "data": {
      "text/plain": [
       "(60943, 12)"
      ]
     },
     "execution_count": 3,
     "metadata": {},
     "output_type": "execute_result"
    }
   ],
   "source": [
    "# check the datasets numbers of rows and colums\n",
    "dat.shape"
   ]
  },
  {
   "cell_type": "code",
   "execution_count": 4,
   "metadata": {},
   "outputs": [
    {
     "name": "stdout",
     "output_type": "stream",
     "text": [
      "<class 'pandas.core.frame.DataFrame'>\n",
      "RangeIndex: 60943 entries, 0 to 60942\n",
      "Data columns (total 12 columns):\n",
      " #   Column        Non-Null Count  Dtype  \n",
      "---  ------        --------------  -----  \n",
      " 0   Area Code     60943 non-null  int64  \n",
      " 1   Area          60943 non-null  object \n",
      " 2   Item Code     60943 non-null  int64  \n",
      " 3   Item          60943 non-null  object \n",
      " 4   Element Code  60943 non-null  int64  \n",
      " 5   Element       60943 non-null  object \n",
      " 6   Unit          60943 non-null  object \n",
      " 7   Y2014         59354 non-null  float64\n",
      " 8   Y2015         59395 non-null  float64\n",
      " 9   Y2016         59408 non-null  float64\n",
      " 10  Y2017         59437 non-null  float64\n",
      " 11  Y2018         59507 non-null  float64\n",
      "dtypes: float64(5), int64(3), object(4)\n",
      "memory usage: 5.6+ MB\n"
     ]
    }
   ],
   "source": [
    "# check the types of data that made up the dataset\n",
    "dat.info()"
   ]
  },
  {
   "cell_type": "code",
   "execution_count": 6,
   "metadata": {},
   "outputs": [
    {
     "data": {
      "text/plain": [
       "Area Code          0\n",
       "Area               0\n",
       "Item Code          0\n",
       "Item               0\n",
       "Element Code       0\n",
       "Element            0\n",
       "Unit               0\n",
       "Y2014           1589\n",
       "Y2015           1548\n",
       "Y2016           1535\n",
       "Y2017           1506\n",
       "Y2018           1436\n",
       "dtype: int64"
      ]
     },
     "execution_count": 6,
     "metadata": {},
     "output_type": "execute_result"
    }
   ],
   "source": [
    "# check for missing data\n",
    "dat.isnull().sum()"
   ]
  },
  {
   "cell_type": "markdown",
   "metadata": {},
   "source": [
    "We observed that there was filling data in year 2014, 2015, 2016, 2017 and 2018 "
   ]
  },
  {
   "cell_type": "code",
   "execution_count": 7,
   "metadata": {},
   "outputs": [],
   "source": [
    "# let fill in the missing data in the datasets\n",
    "dat.Y2014 = dat.Y2014.fillna(method='ffill')\n",
    "dat.Y2015 = dat.Y2015.fillna(method='ffill')\n",
    "dat.Y2016 = dat.Y2016.fillna(method='ffill')\n",
    "dat.Y2017 = dat.Y2017.fillna(method='ffill')\n",
    "dat.Y2018 = dat.Y2018.fillna(method='ffill')"
   ]
  },
  {
   "cell_type": "code",
   "execution_count": 8,
   "metadata": {},
   "outputs": [
    {
     "data": {
      "text/plain": [
       "Area Code       0\n",
       "Area            0\n",
       "Item Code       0\n",
       "Item            0\n",
       "Element Code    0\n",
       "Element         0\n",
       "Unit            0\n",
       "Y2014           0\n",
       "Y2015           0\n",
       "Y2016           0\n",
       "Y2017           0\n",
       "Y2018           0\n",
       "dtype: int64"
      ]
     },
     "execution_count": 8,
     "metadata": {},
     "output_type": "execute_result"
    }
   ],
   "source": [
    "# Let check to confirm the results above\n",
    "dat.isna().sum()"
   ]
  },
  {
   "cell_type": "code",
   "execution_count": 9,
   "metadata": {},
   "outputs": [
    {
     "data": {
      "text/html": [
       "<div>\n",
       "<style scoped>\n",
       "    .dataframe tbody tr th:only-of-type {\n",
       "        vertical-align: middle;\n",
       "    }\n",
       "\n",
       "    .dataframe tbody tr th {\n",
       "        vertical-align: top;\n",
       "    }\n",
       "\n",
       "    .dataframe thead th {\n",
       "        text-align: right;\n",
       "    }\n",
       "</style>\n",
       "<table border=\"1\" class=\"dataframe\">\n",
       "  <thead>\n",
       "    <tr style=\"text-align: right;\">\n",
       "      <th></th>\n",
       "      <th>Area Code</th>\n",
       "      <th>Item Code</th>\n",
       "      <th>Element Code</th>\n",
       "      <th>Y2014</th>\n",
       "      <th>Y2015</th>\n",
       "      <th>Y2016</th>\n",
       "      <th>Y2017</th>\n",
       "      <th>Y2018</th>\n",
       "    </tr>\n",
       "  </thead>\n",
       "  <tbody>\n",
       "    <tr>\n",
       "      <th>count</th>\n",
       "      <td>60943.000000</td>\n",
       "      <td>60943.000000</td>\n",
       "      <td>60943.000000</td>\n",
       "      <td>60943.000000</td>\n",
       "      <td>60943.000000</td>\n",
       "      <td>60943.000000</td>\n",
       "      <td>60943.000000</td>\n",
       "      <td>60943.000000</td>\n",
       "    </tr>\n",
       "    <tr>\n",
       "      <th>mean</th>\n",
       "      <td>134.265576</td>\n",
       "      <td>2687.176706</td>\n",
       "      <td>3814.856456</td>\n",
       "      <td>133.388397</td>\n",
       "      <td>135.100589</td>\n",
       "      <td>136.413022</td>\n",
       "      <td>139.046607</td>\n",
       "      <td>143.364397</td>\n",
       "    </tr>\n",
       "    <tr>\n",
       "      <th>std</th>\n",
       "      <td>72.605709</td>\n",
       "      <td>146.055739</td>\n",
       "      <td>2212.007033</td>\n",
       "      <td>1553.531258</td>\n",
       "      <td>1598.401439</td>\n",
       "      <td>1636.795941</td>\n",
       "      <td>1653.189546</td>\n",
       "      <td>1706.968053</td>\n",
       "    </tr>\n",
       "    <tr>\n",
       "      <th>min</th>\n",
       "      <td>4.000000</td>\n",
       "      <td>2501.000000</td>\n",
       "      <td>511.000000</td>\n",
       "      <td>-1796.000000</td>\n",
       "      <td>-3161.000000</td>\n",
       "      <td>-3225.000000</td>\n",
       "      <td>-1582.000000</td>\n",
       "      <td>-3396.000000</td>\n",
       "    </tr>\n",
       "    <tr>\n",
       "      <th>25%</th>\n",
       "      <td>74.000000</td>\n",
       "      <td>2562.000000</td>\n",
       "      <td>684.000000</td>\n",
       "      <td>0.000000</td>\n",
       "      <td>0.000000</td>\n",
       "      <td>0.000000</td>\n",
       "      <td>0.000000</td>\n",
       "      <td>0.000000</td>\n",
       "    </tr>\n",
       "    <tr>\n",
       "      <th>50%</th>\n",
       "      <td>136.000000</td>\n",
       "      <td>2630.000000</td>\n",
       "      <td>5142.000000</td>\n",
       "      <td>0.070000</td>\n",
       "      <td>0.060000</td>\n",
       "      <td>0.060000</td>\n",
       "      <td>0.080000</td>\n",
       "      <td>0.050000</td>\n",
       "    </tr>\n",
       "    <tr>\n",
       "      <th>75%</th>\n",
       "      <td>195.000000</td>\n",
       "      <td>2775.000000</td>\n",
       "      <td>5511.000000</td>\n",
       "      <td>8.000000</td>\n",
       "      <td>8.000000</td>\n",
       "      <td>8.000000</td>\n",
       "      <td>8.690000</td>\n",
       "      <td>8.200000</td>\n",
       "    </tr>\n",
       "    <tr>\n",
       "      <th>max</th>\n",
       "      <td>276.000000</td>\n",
       "      <td>2961.000000</td>\n",
       "      <td>5911.000000</td>\n",
       "      <td>176405.000000</td>\n",
       "      <td>181137.000000</td>\n",
       "      <td>185960.000000</td>\n",
       "      <td>190873.000000</td>\n",
       "      <td>195875.000000</td>\n",
       "    </tr>\n",
       "  </tbody>\n",
       "</table>\n",
       "</div>"
      ],
      "text/plain": [
       "          Area Code     Item Code  Element Code          Y2014          Y2015  \\\n",
       "count  60943.000000  60943.000000  60943.000000   60943.000000   60943.000000   \n",
       "mean     134.265576   2687.176706   3814.856456     133.388397     135.100589   \n",
       "std       72.605709    146.055739   2212.007033    1553.531258    1598.401439   \n",
       "min        4.000000   2501.000000    511.000000   -1796.000000   -3161.000000   \n",
       "25%       74.000000   2562.000000    684.000000       0.000000       0.000000   \n",
       "50%      136.000000   2630.000000   5142.000000       0.070000       0.060000   \n",
       "75%      195.000000   2775.000000   5511.000000       8.000000       8.000000   \n",
       "max      276.000000   2961.000000   5911.000000  176405.000000  181137.000000   \n",
       "\n",
       "               Y2016          Y2017          Y2018  \n",
       "count   60943.000000   60943.000000   60943.000000  \n",
       "mean      136.413022     139.046607     143.364397  \n",
       "std      1636.795941    1653.189546    1706.968053  \n",
       "min     -3225.000000   -1582.000000   -3396.000000  \n",
       "25%         0.000000       0.000000       0.000000  \n",
       "50%         0.060000       0.080000       0.050000  \n",
       "75%         8.000000       8.690000       8.200000  \n",
       "max    185960.000000  190873.000000  195875.000000  "
      ]
     },
     "execution_count": 9,
     "metadata": {},
     "output_type": "execute_result"
    }
   ],
   "source": [
    "# Let check the summary statistics of the datasets\n",
    "dat.describe()"
   ]
  },
  {
   "cell_type": "code",
   "execution_count": 10,
   "metadata": {},
   "outputs": [
    {
     "data": {
      "text/html": [
       "<div>\n",
       "<style scoped>\n",
       "    .dataframe tbody tr th:only-of-type {\n",
       "        vertical-align: middle;\n",
       "    }\n",
       "\n",
       "    .dataframe tbody tr th {\n",
       "        vertical-align: top;\n",
       "    }\n",
       "\n",
       "    .dataframe thead th {\n",
       "        text-align: right;\n",
       "    }\n",
       "</style>\n",
       "<table border=\"1\" class=\"dataframe\">\n",
       "  <thead>\n",
       "    <tr style=\"text-align: right;\">\n",
       "      <th></th>\n",
       "      <th>Area Code</th>\n",
       "      <th>Item Code</th>\n",
       "      <th>Element Code</th>\n",
       "      <th>Y2014</th>\n",
       "      <th>Y2015</th>\n",
       "      <th>Y2016</th>\n",
       "      <th>Y2017</th>\n",
       "      <th>Y2018</th>\n",
       "    </tr>\n",
       "  </thead>\n",
       "  <tbody>\n",
       "    <tr>\n",
       "      <th>Area Code</th>\n",
       "      <td>1.000000</td>\n",
       "      <td>-0.005159</td>\n",
       "      <td>-0.000209</td>\n",
       "      <td>0.005899</td>\n",
       "      <td>0.005430</td>\n",
       "      <td>0.005366</td>\n",
       "      <td>0.004916</td>\n",
       "      <td>0.006050</td>\n",
       "    </tr>\n",
       "    <tr>\n",
       "      <th>Item Code</th>\n",
       "      <td>-0.005159</td>\n",
       "      <td>1.000000</td>\n",
       "      <td>-0.024683</td>\n",
       "      <td>0.022334</td>\n",
       "      <td>0.020994</td>\n",
       "      <td>0.020235</td>\n",
       "      <td>0.021982</td>\n",
       "      <td>0.020665</td>\n",
       "    </tr>\n",
       "    <tr>\n",
       "      <th>Element Code</th>\n",
       "      <td>-0.000209</td>\n",
       "      <td>-0.024683</td>\n",
       "      <td>1.000000</td>\n",
       "      <td>0.024271</td>\n",
       "      <td>0.023852</td>\n",
       "      <td>0.023288</td>\n",
       "      <td>0.023458</td>\n",
       "      <td>0.023983</td>\n",
       "    </tr>\n",
       "    <tr>\n",
       "      <th>Y2014</th>\n",
       "      <td>0.005899</td>\n",
       "      <td>0.022334</td>\n",
       "      <td>0.024271</td>\n",
       "      <td>1.000000</td>\n",
       "      <td>0.986107</td>\n",
       "      <td>0.985421</td>\n",
       "      <td>0.991243</td>\n",
       "      <td>0.981926</td>\n",
       "    </tr>\n",
       "    <tr>\n",
       "      <th>Y2015</th>\n",
       "      <td>0.005430</td>\n",
       "      <td>0.020994</td>\n",
       "      <td>0.023852</td>\n",
       "      <td>0.986107</td>\n",
       "      <td>1.000000</td>\n",
       "      <td>0.994750</td>\n",
       "      <td>0.979359</td>\n",
       "      <td>0.984404</td>\n",
       "    </tr>\n",
       "    <tr>\n",
       "      <th>Y2016</th>\n",
       "      <td>0.005366</td>\n",
       "      <td>0.020235</td>\n",
       "      <td>0.023288</td>\n",
       "      <td>0.985421</td>\n",
       "      <td>0.994750</td>\n",
       "      <td>1.000000</td>\n",
       "      <td>0.982299</td>\n",
       "      <td>0.989360</td>\n",
       "    </tr>\n",
       "    <tr>\n",
       "      <th>Y2017</th>\n",
       "      <td>0.004916</td>\n",
       "      <td>0.021982</td>\n",
       "      <td>0.023458</td>\n",
       "      <td>0.991243</td>\n",
       "      <td>0.979359</td>\n",
       "      <td>0.982299</td>\n",
       "      <td>1.000000</td>\n",
       "      <td>0.988001</td>\n",
       "    </tr>\n",
       "    <tr>\n",
       "      <th>Y2018</th>\n",
       "      <td>0.006050</td>\n",
       "      <td>0.020665</td>\n",
       "      <td>0.023983</td>\n",
       "      <td>0.981926</td>\n",
       "      <td>0.984404</td>\n",
       "      <td>0.989360</td>\n",
       "      <td>0.988001</td>\n",
       "      <td>1.000000</td>\n",
       "    </tr>\n",
       "  </tbody>\n",
       "</table>\n",
       "</div>"
      ],
      "text/plain": [
       "              Area Code  Item Code  Element Code     Y2014     Y2015  \\\n",
       "Area Code      1.000000  -0.005159     -0.000209  0.005899  0.005430   \n",
       "Item Code     -0.005159   1.000000     -0.024683  0.022334  0.020994   \n",
       "Element Code  -0.000209  -0.024683      1.000000  0.024271  0.023852   \n",
       "Y2014          0.005899   0.022334      0.024271  1.000000  0.986107   \n",
       "Y2015          0.005430   0.020994      0.023852  0.986107  1.000000   \n",
       "Y2016          0.005366   0.020235      0.023288  0.985421  0.994750   \n",
       "Y2017          0.004916   0.021982      0.023458  0.991243  0.979359   \n",
       "Y2018          0.006050   0.020665      0.023983  0.981926  0.984404   \n",
       "\n",
       "                 Y2016     Y2017     Y2018  \n",
       "Area Code     0.005366  0.004916  0.006050  \n",
       "Item Code     0.020235  0.021982  0.020665  \n",
       "Element Code  0.023288  0.023458  0.023983  \n",
       "Y2014         0.985421  0.991243  0.981926  \n",
       "Y2015         0.994750  0.979359  0.984404  \n",
       "Y2016         1.000000  0.982299  0.989360  \n",
       "Y2017         0.982299  1.000000  0.988001  \n",
       "Y2018         0.989360  0.988001  1.000000  "
      ]
     },
     "execution_count": 10,
     "metadata": {},
     "output_type": "execute_result"
    }
   ],
   "source": [
    "# Let check the correlation of the dataset\n",
    "dat.corr()"
   ]
  },
  {
   "cell_type": "code",
   "execution_count": 11,
   "metadata": {},
   "outputs": [
    {
     "data": {
      "text/plain": [
       "Area\n",
       "Algeria                        1313\n",
       "Angola                         1424\n",
       "Benin                          1285\n",
       "Botswana                       1378\n",
       "Burkina Faso                   1409\n",
       "Cabo Verde                     1260\n",
       "Cameroon                       1460\n",
       "Central African Republic       1344\n",
       "Chad                           1343\n",
       "Comoros                          45\n",
       "Congo                          1413\n",
       "Côte d'Ivoire                  1467\n",
       "Djibouti                       1095\n",
       "Egypt                          1488\n",
       "Eswatini                       1284\n",
       "Ethiopia                       1447\n",
       "Ethiopia PDR                     39\n",
       "Gabon                          1245\n",
       "Gambia                         1168\n",
       "Ghana                          1354\n",
       "Guinea                         1410\n",
       "Guinea-Bissau                  1128\n",
       "Kenya                          1560\n",
       "Lesotho                        1150\n",
       "Liberia                        1206\n",
       "Madagascar                     1439\n",
       "Malawi                         1447\n",
       "Mali                           1293\n",
       "Mauritania                     1195\n",
       "Mauritius                      1378\n",
       "Morocco                        1393\n",
       "Mozambique                     1427\n",
       "Namibia                        1283\n",
       "Niger                          1403\n",
       "Nigeria                        1474\n",
       "Rwanda                         1426\n",
       "Sao Tome and Principe          1177\n",
       "Senegal                        1462\n",
       "Seychelles                       68\n",
       "Sierra Leone                   1242\n",
       "South Africa                   1399\n",
       "Sudan                          1316\n",
       "Sudan (former)                   53\n",
       "Togo                           1294\n",
       "Tunisia                        1338\n",
       "Uganda                         1458\n",
       "United Republic of Tanzania    1419\n",
       "Zambia                         1451\n",
       "Zimbabwe                       1393\n",
       "Name: Area, dtype: int64"
      ]
     },
     "execution_count": 11,
     "metadata": {},
     "output_type": "execute_result"
    }
   ],
   "source": [
    "# Let group the areas of the datasets\n",
    "dat.groupby('Area')['Area'].count()"
   ]
  },
  {
   "cell_type": "code",
   "execution_count": 13,
   "metadata": {},
   "outputs": [
    {
     "data": {
      "text/html": [
       "<div>\n",
       "<style scoped>\n",
       "    .dataframe tbody tr th:only-of-type {\n",
       "        vertical-align: middle;\n",
       "    }\n",
       "\n",
       "    .dataframe tbody tr th {\n",
       "        vertical-align: top;\n",
       "    }\n",
       "\n",
       "    .dataframe thead th {\n",
       "        text-align: right;\n",
       "    }\n",
       "</style>\n",
       "<table border=\"1\" class=\"dataframe\">\n",
       "  <thead>\n",
       "    <tr style=\"text-align: right;\">\n",
       "      <th></th>\n",
       "      <th>Area</th>\n",
       "      <th>Y2017</th>\n",
       "    </tr>\n",
       "  </thead>\n",
       "  <tbody>\n",
       "    <tr>\n",
       "      <th>0</th>\n",
       "      <td>Algeria</td>\n",
       "      <td>1313</td>\n",
       "    </tr>\n",
       "    <tr>\n",
       "      <th>1</th>\n",
       "      <td>Angola</td>\n",
       "      <td>1424</td>\n",
       "    </tr>\n",
       "    <tr>\n",
       "      <th>2</th>\n",
       "      <td>Benin</td>\n",
       "      <td>1285</td>\n",
       "    </tr>\n",
       "    <tr>\n",
       "      <th>3</th>\n",
       "      <td>Botswana</td>\n",
       "      <td>1378</td>\n",
       "    </tr>\n",
       "    <tr>\n",
       "      <th>4</th>\n",
       "      <td>Burkina Faso</td>\n",
       "      <td>1409</td>\n",
       "    </tr>\n",
       "    <tr>\n",
       "      <th>5</th>\n",
       "      <td>Cabo Verde</td>\n",
       "      <td>1260</td>\n",
       "    </tr>\n",
       "    <tr>\n",
       "      <th>6</th>\n",
       "      <td>Cameroon</td>\n",
       "      <td>1460</td>\n",
       "    </tr>\n",
       "    <tr>\n",
       "      <th>7</th>\n",
       "      <td>Central African Republic</td>\n",
       "      <td>1344</td>\n",
       "    </tr>\n",
       "    <tr>\n",
       "      <th>8</th>\n",
       "      <td>Chad</td>\n",
       "      <td>1343</td>\n",
       "    </tr>\n",
       "    <tr>\n",
       "      <th>9</th>\n",
       "      <td>Comoros</td>\n",
       "      <td>45</td>\n",
       "    </tr>\n",
       "    <tr>\n",
       "      <th>10</th>\n",
       "      <td>Congo</td>\n",
       "      <td>1413</td>\n",
       "    </tr>\n",
       "    <tr>\n",
       "      <th>11</th>\n",
       "      <td>Côte d'Ivoire</td>\n",
       "      <td>1467</td>\n",
       "    </tr>\n",
       "    <tr>\n",
       "      <th>12</th>\n",
       "      <td>Djibouti</td>\n",
       "      <td>1095</td>\n",
       "    </tr>\n",
       "    <tr>\n",
       "      <th>13</th>\n",
       "      <td>Egypt</td>\n",
       "      <td>1488</td>\n",
       "    </tr>\n",
       "    <tr>\n",
       "      <th>14</th>\n",
       "      <td>Eswatini</td>\n",
       "      <td>1284</td>\n",
       "    </tr>\n",
       "    <tr>\n",
       "      <th>15</th>\n",
       "      <td>Ethiopia</td>\n",
       "      <td>1447</td>\n",
       "    </tr>\n",
       "    <tr>\n",
       "      <th>16</th>\n",
       "      <td>Ethiopia PDR</td>\n",
       "      <td>39</td>\n",
       "    </tr>\n",
       "    <tr>\n",
       "      <th>17</th>\n",
       "      <td>Gabon</td>\n",
       "      <td>1245</td>\n",
       "    </tr>\n",
       "    <tr>\n",
       "      <th>18</th>\n",
       "      <td>Gambia</td>\n",
       "      <td>1168</td>\n",
       "    </tr>\n",
       "    <tr>\n",
       "      <th>19</th>\n",
       "      <td>Ghana</td>\n",
       "      <td>1354</td>\n",
       "    </tr>\n",
       "    <tr>\n",
       "      <th>20</th>\n",
       "      <td>Guinea</td>\n",
       "      <td>1410</td>\n",
       "    </tr>\n",
       "    <tr>\n",
       "      <th>21</th>\n",
       "      <td>Guinea-Bissau</td>\n",
       "      <td>1128</td>\n",
       "    </tr>\n",
       "    <tr>\n",
       "      <th>22</th>\n",
       "      <td>Kenya</td>\n",
       "      <td>1560</td>\n",
       "    </tr>\n",
       "    <tr>\n",
       "      <th>23</th>\n",
       "      <td>Lesotho</td>\n",
       "      <td>1150</td>\n",
       "    </tr>\n",
       "    <tr>\n",
       "      <th>24</th>\n",
       "      <td>Liberia</td>\n",
       "      <td>1206</td>\n",
       "    </tr>\n",
       "    <tr>\n",
       "      <th>25</th>\n",
       "      <td>Madagascar</td>\n",
       "      <td>1439</td>\n",
       "    </tr>\n",
       "    <tr>\n",
       "      <th>26</th>\n",
       "      <td>Malawi</td>\n",
       "      <td>1447</td>\n",
       "    </tr>\n",
       "    <tr>\n",
       "      <th>27</th>\n",
       "      <td>Mali</td>\n",
       "      <td>1293</td>\n",
       "    </tr>\n",
       "    <tr>\n",
       "      <th>28</th>\n",
       "      <td>Mauritania</td>\n",
       "      <td>1195</td>\n",
       "    </tr>\n",
       "    <tr>\n",
       "      <th>29</th>\n",
       "      <td>Mauritius</td>\n",
       "      <td>1378</td>\n",
       "    </tr>\n",
       "    <tr>\n",
       "      <th>30</th>\n",
       "      <td>Morocco</td>\n",
       "      <td>1393</td>\n",
       "    </tr>\n",
       "    <tr>\n",
       "      <th>31</th>\n",
       "      <td>Mozambique</td>\n",
       "      <td>1427</td>\n",
       "    </tr>\n",
       "    <tr>\n",
       "      <th>32</th>\n",
       "      <td>Namibia</td>\n",
       "      <td>1283</td>\n",
       "    </tr>\n",
       "    <tr>\n",
       "      <th>33</th>\n",
       "      <td>Niger</td>\n",
       "      <td>1403</td>\n",
       "    </tr>\n",
       "    <tr>\n",
       "      <th>34</th>\n",
       "      <td>Nigeria</td>\n",
       "      <td>1474</td>\n",
       "    </tr>\n",
       "    <tr>\n",
       "      <th>35</th>\n",
       "      <td>Rwanda</td>\n",
       "      <td>1426</td>\n",
       "    </tr>\n",
       "    <tr>\n",
       "      <th>36</th>\n",
       "      <td>Sao Tome and Principe</td>\n",
       "      <td>1177</td>\n",
       "    </tr>\n",
       "    <tr>\n",
       "      <th>37</th>\n",
       "      <td>Senegal</td>\n",
       "      <td>1462</td>\n",
       "    </tr>\n",
       "    <tr>\n",
       "      <th>38</th>\n",
       "      <td>Seychelles</td>\n",
       "      <td>68</td>\n",
       "    </tr>\n",
       "    <tr>\n",
       "      <th>39</th>\n",
       "      <td>Sierra Leone</td>\n",
       "      <td>1242</td>\n",
       "    </tr>\n",
       "    <tr>\n",
       "      <th>40</th>\n",
       "      <td>South Africa</td>\n",
       "      <td>1399</td>\n",
       "    </tr>\n",
       "    <tr>\n",
       "      <th>41</th>\n",
       "      <td>Sudan</td>\n",
       "      <td>1316</td>\n",
       "    </tr>\n",
       "    <tr>\n",
       "      <th>42</th>\n",
       "      <td>Sudan (former)</td>\n",
       "      <td>53</td>\n",
       "    </tr>\n",
       "    <tr>\n",
       "      <th>43</th>\n",
       "      <td>Togo</td>\n",
       "      <td>1294</td>\n",
       "    </tr>\n",
       "    <tr>\n",
       "      <th>44</th>\n",
       "      <td>Tunisia</td>\n",
       "      <td>1338</td>\n",
       "    </tr>\n",
       "    <tr>\n",
       "      <th>45</th>\n",
       "      <td>Uganda</td>\n",
       "      <td>1458</td>\n",
       "    </tr>\n",
       "    <tr>\n",
       "      <th>46</th>\n",
       "      <td>United Republic of Tanzania</td>\n",
       "      <td>1419</td>\n",
       "    </tr>\n",
       "    <tr>\n",
       "      <th>47</th>\n",
       "      <td>Zambia</td>\n",
       "      <td>1451</td>\n",
       "    </tr>\n",
       "    <tr>\n",
       "      <th>48</th>\n",
       "      <td>Zimbabwe</td>\n",
       "      <td>1393</td>\n",
       "    </tr>\n",
       "  </tbody>\n",
       "</table>\n",
       "</div>"
      ],
      "text/plain": [
       "                           Area  Y2017\n",
       "0                       Algeria   1313\n",
       "1                        Angola   1424\n",
       "2                         Benin   1285\n",
       "3                      Botswana   1378\n",
       "4                  Burkina Faso   1409\n",
       "5                    Cabo Verde   1260\n",
       "6                      Cameroon   1460\n",
       "7      Central African Republic   1344\n",
       "8                          Chad   1343\n",
       "9                       Comoros     45\n",
       "10                        Congo   1413\n",
       "11                Côte d'Ivoire   1467\n",
       "12                     Djibouti   1095\n",
       "13                        Egypt   1488\n",
       "14                     Eswatini   1284\n",
       "15                     Ethiopia   1447\n",
       "16                 Ethiopia PDR     39\n",
       "17                        Gabon   1245\n",
       "18                       Gambia   1168\n",
       "19                        Ghana   1354\n",
       "20                       Guinea   1410\n",
       "21                Guinea-Bissau   1128\n",
       "22                        Kenya   1560\n",
       "23                      Lesotho   1150\n",
       "24                      Liberia   1206\n",
       "25                   Madagascar   1439\n",
       "26                       Malawi   1447\n",
       "27                         Mali   1293\n",
       "28                   Mauritania   1195\n",
       "29                    Mauritius   1378\n",
       "30                      Morocco   1393\n",
       "31                   Mozambique   1427\n",
       "32                      Namibia   1283\n",
       "33                        Niger   1403\n",
       "34                      Nigeria   1474\n",
       "35                       Rwanda   1426\n",
       "36        Sao Tome and Principe   1177\n",
       "37                      Senegal   1462\n",
       "38                   Seychelles     68\n",
       "39                 Sierra Leone   1242\n",
       "40                 South Africa   1399\n",
       "41                        Sudan   1316\n",
       "42               Sudan (former)     53\n",
       "43                         Togo   1294\n",
       "44                      Tunisia   1338\n",
       "45                       Uganda   1458\n",
       "46  United Republic of Tanzania   1419\n",
       "47                       Zambia   1451\n",
       "48                     Zimbabwe   1393"
      ]
     },
     "execution_count": 13,
     "metadata": {},
     "output_type": "execute_result"
    }
   ],
   "source": [
    "# Let check the total production of each country for year 2017 \n",
    "dat.groupby(['Area'], as_index=False).Y2017.count()"
   ]
  },
  {
   "cell_type": "markdown",
   "metadata": {},
   "source": [
    "Kenya has the hightest sum of Agricultural production of 1560 and while Ethiopia has the smallest with 39 in the year 2017"
   ]
  },
  {
   "cell_type": "code",
   "execution_count": 15,
   "metadata": {},
   "outputs": [
    {
     "data": {
      "text/plain": [
       "Unit\n",
       "1000 persons          45\n",
       "1000 tonnes        40933\n",
       "g/capita/day       10046\n",
       "kcal/capita/day     5014\n",
       "kg                  4905\n",
       "Name: Unit, dtype: int64"
      ]
     },
     "execution_count": 15,
     "metadata": {},
     "output_type": "execute_result"
    }
   ],
   "source": [
    "#Let group the unit of the datasets base on measurement used\n",
    "dat.groupby('Unit')['Unit'].count()"
   ]
  },
  {
   "cell_type": "code",
   "execution_count": 17,
   "metadata": {},
   "outputs": [
    {
     "data": {
      "text/plain": [
       "Element\n",
       "Domestic supply quantity                  5295\n",
       "Export Quantity                           4403\n",
       "Fat supply quantity (g/capita/day)        5023\n",
       "Feed                                      1319\n",
       "Food                                      4941\n",
       "Food supply (kcal/capita/day)             5014\n",
       "Food supply quantity (kg/capita/yr)       4905\n",
       "Import Quantity                           5139\n",
       "Losses                                    2009\n",
       "Other uses (non-food)                     1732\n",
       "Processing                                2010\n",
       "Production                                3881\n",
       "Protein supply quantity (g/capita/day)    5023\n",
       "Residuals                                 4655\n",
       "Seed                                       762\n",
       "Stock Variation                           4232\n",
       "Total Population - Both sexes               45\n",
       "Tourist consumption                        555\n",
       "Name: Y2014, dtype: int64"
      ]
     },
     "execution_count": 17,
     "metadata": {},
     "output_type": "execute_result"
    }
   ],
   "source": [
    "# Let group the Element of production for the year 2014\n",
    "dat.groupby(['Element']).Y2014.count()"
   ]
  },
  {
   "cell_type": "code",
   "execution_count": 18,
   "metadata": {},
   "outputs": [
    {
     "data": {
      "text/plain": [
       "Element\n",
       "Domestic supply quantity                  5295\n",
       "Export Quantity                           4403\n",
       "Fat supply quantity (g/capita/day)        5023\n",
       "Feed                                      1319\n",
       "Food                                      4941\n",
       "Food supply (kcal/capita/day)             5014\n",
       "Food supply quantity (kg/capita/yr)       4905\n",
       "Import Quantity                           5139\n",
       "Losses                                    2009\n",
       "Other uses (non-food)                     1732\n",
       "Processing                                2010\n",
       "Production                                3881\n",
       "Protein supply quantity (g/capita/day)    5023\n",
       "Residuals                                 4655\n",
       "Seed                                       762\n",
       "Stock Variation                           4232\n",
       "Total Population - Both sexes               45\n",
       "Tourist consumption                        555\n",
       "Name: Y2015, dtype: int64"
      ]
     },
     "execution_count": 18,
     "metadata": {},
     "output_type": "execute_result"
    }
   ],
   "source": [
    "# Let group the Element of production for the year 2015\n",
    "dat.groupby(['Element']).Y2015.count()"
   ]
  },
  {
   "cell_type": "code",
   "execution_count": 19,
   "metadata": {},
   "outputs": [
    {
     "data": {
      "text/plain": [
       "Element\n",
       "Domestic supply quantity                  5295\n",
       "Export Quantity                           4403\n",
       "Fat supply quantity (g/capita/day)        5023\n",
       "Feed                                      1319\n",
       "Food                                      4941\n",
       "Food supply (kcal/capita/day)             5014\n",
       "Food supply quantity (kg/capita/yr)       4905\n",
       "Import Quantity                           5139\n",
       "Losses                                    2009\n",
       "Other uses (non-food)                     1732\n",
       "Processing                                2010\n",
       "Production                                3881\n",
       "Protein supply quantity (g/capita/day)    5023\n",
       "Residuals                                 4655\n",
       "Seed                                       762\n",
       "Stock Variation                           4232\n",
       "Total Population - Both sexes               45\n",
       "Tourist consumption                        555\n",
       "Name: Y2016, dtype: int64"
      ]
     },
     "execution_count": 19,
     "metadata": {},
     "output_type": "execute_result"
    }
   ],
   "source": [
    "# Let group the Element of production for the year 2016\n",
    "dat.groupby(['Element']).Y2016.count()"
   ]
  },
  {
   "cell_type": "code",
   "execution_count": 20,
   "metadata": {},
   "outputs": [
    {
     "data": {
      "text/plain": [
       "Element\n",
       "Domestic supply quantity                  5295\n",
       "Export Quantity                           4403\n",
       "Fat supply quantity (g/capita/day)        5023\n",
       "Feed                                      1319\n",
       "Food                                      4941\n",
       "Food supply (kcal/capita/day)             5014\n",
       "Food supply quantity (kg/capita/yr)       4905\n",
       "Import Quantity                           5139\n",
       "Losses                                    2009\n",
       "Other uses (non-food)                     1732\n",
       "Processing                                2010\n",
       "Production                                3881\n",
       "Protein supply quantity (g/capita/day)    5023\n",
       "Residuals                                 4655\n",
       "Seed                                       762\n",
       "Stock Variation                           4232\n",
       "Total Population - Both sexes               45\n",
       "Tourist consumption                        555\n",
       "Name: Y2017, dtype: int64"
      ]
     },
     "execution_count": 20,
     "metadata": {},
     "output_type": "execute_result"
    }
   ],
   "source": [
    "# Let group the Element of production for the year 2017\n",
    "dat.groupby(['Element']).Y2017.count()"
   ]
  },
  {
   "cell_type": "code",
   "execution_count": 21,
   "metadata": {},
   "outputs": [
    {
     "data": {
      "text/plain": [
       "Element\n",
       "Domestic supply quantity                  5295\n",
       "Export Quantity                           4403\n",
       "Fat supply quantity (g/capita/day)        5023\n",
       "Feed                                      1319\n",
       "Food                                      4941\n",
       "Food supply (kcal/capita/day)             5014\n",
       "Food supply quantity (kg/capita/yr)       4905\n",
       "Import Quantity                           5139\n",
       "Losses                                    2009\n",
       "Other uses (non-food)                     1732\n",
       "Processing                                2010\n",
       "Production                                3881\n",
       "Protein supply quantity (g/capita/day)    5023\n",
       "Residuals                                 4655\n",
       "Seed                                       762\n",
       "Stock Variation                           4232\n",
       "Total Population - Both sexes               45\n",
       "Tourist consumption                        555\n",
       "Name: Y2018, dtype: int64"
      ]
     },
     "execution_count": 21,
     "metadata": {},
     "output_type": "execute_result"
    }
   ],
   "source": [
    "# Let group the Element of production for the year 2018\n",
    "dat.groupby(['Element']).Y2018.count()"
   ]
  },
  {
   "cell_type": "code",
   "execution_count": 23,
   "metadata": {},
   "outputs": [
    {
     "data": {
      "text/plain": [
       "Item\n",
       "Alcohol, Non-Food      283\n",
       "Alcoholic Beverages    564\n",
       "Animal Products        135\n",
       "Animal fats            639\n",
       "Apples and products    517\n",
       "                      ... \n",
       "Vegetables, Other      583\n",
       "Vegetal Products       135\n",
       "Wheat and products     653\n",
       "Wine                   497\n",
       "Yams                   383\n",
       "Name: Item, Length: 119, dtype: int64"
      ]
     },
     "execution_count": 23,
     "metadata": {},
     "output_type": "execute_result"
    }
   ],
   "source": [
    "# Let group the items in the datasets\n",
    "dat.groupby('Item')['Item'].count()"
   ]
  },
  {
   "cell_type": "markdown",
   "metadata": {},
   "source": [
    "VISUALIZATION OF THE DATASETS"
   ]
  },
  {
   "cell_type": "code",
   "execution_count": 25,
   "metadata": {},
   "outputs": [
    {
     "data": {
      "text/plain": [
       "Text(0.5, 0, 'Climate Change Area')"
      ]
     },
     "execution_count": 25,
     "metadata": {},
     "output_type": "execute_result"
    },
    {
     "data": {
      "image/png": "[encoded data removed]",
      "text/plain": [
       "<Figure size 720x720 with 1 Axes>"
      ]
     },
     "metadata": {
      "needs_background": "light"
     },
     "output_type": "display_data"
    }
   ],
   "source": [
    "# Let plot the area of the dataset in bar chart\n",
    "plt.figure(figsize=(10, 10))\n",
    "plt.xticks(rotation=90)\n",
    "dat_area = pd.DataFrame({'Area':['Benin','Sudan','Togo','Nigeria','South Africa','Comoros'],\n",
    "                        'count':[1285, 1316, 1294, 1474, 1399, 45]})\n",
    "sns.barplot(data=dat_area, x='Area', y='count')\n",
    "plt.xlabel('Climate Change Area')"
   ]
  },
  {
   "cell_type": "code",
   "execution_count": 26,
   "metadata": {},
   "outputs": [
    {
     "data": {
      "text/plain": [
       "Text(0.5, 0, 'Climate Change Element')"
      ]
     },
     "execution_count": 26,
     "metadata": {},
     "output_type": "execute_result"
    },
    {
     "data": {
      "image/png": "[encoded data removed]",
      "text/plain": [
       "<Figure size 720x720 with 1 Axes>"
      ]
     },
     "metadata": {
      "needs_background": "light"
     },
     "output_type": "display_data"
    }
   ],
   "source": [
    "# Let plot the area of production for the year 2018\n",
    "\n",
    "plt.figure(figsize=(10, 10))\n",
    "plt.xticks(rotation=90)\n",
    "\n",
    "dat_ele = pd.DataFrame({'Element':['Domestic supply quantity','Export Quantity','Fat supply quantity',\n",
    "                                   'Feed','Food','Food supply (kcal/capita/day)','Food supply quantity (kg/capita/yr)',\n",
    "                                   'Import Quantity','Losses','Other uses','Processing','Production ','Protein supply quantity',\n",
    "                                   'Residuals','Seed','Stock Variation','Total Population','Tourist consumption'], \n",
    "                        'count':['5295','4403','5023','1319','4941','5014','4905','5139','2009','1732','2010','3881','5023',\n",
    "                                '4655','762','4232','45','555']\n",
    "                       })\n",
    "sns.barplot(data=dat_ele, x='Element', y='count')\n",
    "plt.xlabel('Climate Change Element')"
   ]
  },
  {
   "cell_type": "code",
   "execution_count": 31,
   "metadata": {},
   "outputs": [
    {
     "data": {
      "text/plain": [
       "<matplotlib.axes._subplots.AxesSubplot at 0x22f6b146c88>"
      ]
     },
     "execution_count": 31,
     "metadata": {},
     "output_type": "execute_result"
    },
    {
     "data": {
      "image/png": "[encoded data removed]",
      "text/plain": [
       "<Figure size 720x360 with 1 Axes>"
      ]
     },
     "metadata": {
      "needs_background": "light"
     },
     "output_type": "display_data"
    }
   ],
   "source": [
    "dat.Y2014.plot(figsize=(10,5), title='Y2014')"
   ]
  },
  {
   "cell_type": "code",
   "execution_count": null,
   "metadata": {},
   "outputs": [],
   "source": []
  }
 ],
 "metadata": {
  "kernelspec": {
   "display_name": "Python 3",
   "language": "python",
   "name": "python3"
  },
  "language_info": {
   "codemirror_mode": {
    "name": "ipython",
    "version": 3
   },
   "file_extension": ".py",
   "mimetype": "text/x-python",
   "name": "python",
   "nbconvert_exporter": "python",
   "pygments_lexer": "ipython3",
   "version": "3.7.6"
  }
 },
 "nbformat": 4,
 "nbformat_minor": 4
}
